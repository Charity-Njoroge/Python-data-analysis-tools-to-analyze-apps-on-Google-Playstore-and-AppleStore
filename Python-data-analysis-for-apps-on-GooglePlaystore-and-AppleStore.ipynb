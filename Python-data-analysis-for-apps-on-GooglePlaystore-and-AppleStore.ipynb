{
 "cells": [
  {
   "cell_type": "markdown",
   "metadata": {
    "collapsed": true
   },
   "source": [
    "# Profitable App Profiles for the App Store and Google Play Markets.\n",
    "***\n",
    "\n",
    "This project involves data analysis for a company that builds Android and iOS mobile apps. The company makes its apps available on Google Play and the App Store.\n",
    "\n",
    "They only build apps that are free to download and install, and their main source of revenue consists of in-app ads. This means their revenue for any given app is mostly influenced by the number of users who use their app — the more users that see and engage with the ads, the better. \n",
    "My goal for this project is to analyze data to help the company's developers understand what type of apps are likely to attract more users.\n",
    "\n",
    "## In this project, we will:\n",
    "- use Python data analysis tools to analyze apps on Google Playstore and AppleStore.\n",
    "-  collect and analyze data about mobile apps available on Google Play and the App Store.\n",
    "- Use relevant existing data from [link](https://www.kaggle.com/lava18/google-play-store-apps/home) that contains data about Android apps from Google Play, and [link](https://www.kaggle.com/ramamet4/app-store-apple-data-set-10k-apps/home) which contains data about Apple store apps.\n",
    "- Use this data to help developers understand what type of apps are likely to attract more users\n"
   ]
  },
  {
   "cell_type": "markdown",
   "metadata": {},
   "source": [
    "Open the data sets to make them easier to explore. The function `explore_data()` can be used repeatedly to print ros in a readable way."
   ]
  },
  {
   "cell_type": "code",
   "execution_count": 1,
   "metadata": {
    "collapsed": false
   },
   "outputs": [],
   "source": [
    "from csv import reader\n",
    "\n",
    "### The Google Play data set ###\n",
    "opened_file = open('googleplaystore.csv')\n",
    "read_file = reader(opened_file)\n",
    "android_apps_data = list(read_file)\n",
    "android_header = android_apps_data[0]\n",
    "android_data = android_apps_data[1:]\n",
    "\n",
    "### The App Store data set ###\n",
    "opened_file = open('AppleStore.csv')\n",
    "read_file = reader(opened_file)\n",
    "apple_apps_data = list(read_file)\n",
    "apple_header = apple_apps_data[0]\n",
    "apple_data = apple_apps_data [1:]"
   ]
  },
  {
   "cell_type": "code",
   "execution_count": 2,
   "metadata": {
    "collapsed": true
   },
   "outputs": [],
   "source": [
    "def explore_data(apps_data, start, end, rows_and_columns=False):\n",
    "    dataset_slice = apps_data[start:end]    \n",
    "    for row in dataset_slice:\n",
    "        print(row)\n",
    "        print('\\n') # adds a new (empty) line after each row\n",
    "\n",
    "    if rows_and_columns:\n",
    "        print('Number of rows:', len(apps_data))\n",
    "        print('Number of columns:', len(apps_data[0]))\n",
    "        print()"
   ]
  },
  {
   "cell_type": "code",
   "execution_count": 3,
   "metadata": {
    "collapsed": false
   },
   "outputs": [
    {
     "name": "stdout",
     "output_type": "stream",
     "text": [
      "Google play store explored data are \n",
      " \n",
      "['App', 'Category', 'Rating', 'Reviews', 'Size', 'Installs', 'Type', 'Price', 'Content Rating', 'Genres', 'Last Updated', 'Current Ver', 'Android Ver']\n",
      "\n",
      "\n",
      "['Photo Editor & Candy Camera & Grid & ScrapBook', 'ART_AND_DESIGN', '4.1', '159', '19M', '10,000+', 'Free', '0', 'Everyone', 'Art & Design', 'January 7, 2018', '1.0.0', '4.0.3 and up']\n",
      "\n",
      "\n",
      "['Coloring book moana', 'ART_AND_DESIGN', '3.9', '967', '14M', '500,000+', 'Free', '0', 'Everyone', 'Art & Design;Pretend Play', 'January 15, 2018', '2.0.0', '4.0.3 and up']\n",
      "\n",
      "\n",
      "['U Launcher Lite – FREE Live Cool Themes, Hide Apps', 'ART_AND_DESIGN', '4.7', '87510', '8.7M', '5,000,000+', 'Free', '0', 'Everyone', 'Art & Design', 'August 1, 2018', '1.2.4', '4.0.3 and up']\n",
      "\n",
      "\n",
      "['Sketch - Draw & Paint', 'ART_AND_DESIGN', '4.5', '215644', '25M', '50,000,000+', 'Free', '0', 'Teen', 'Art & Design', 'June 8, 2018', 'Varies with device', '4.2 and up']\n",
      "\n",
      "\n",
      "Number of rows: 10842\n",
      "Number of columns: 13\n",
      "\n",
      "Apple store explored data are : \n",
      " \n",
      "['id', 'track_name', 'size_bytes', 'currency', 'price', 'rating_count_tot', 'rating_count_ver', 'user_rating', 'user_rating_ver', 'ver', 'cont_rating', 'prime_genre', 'sup_devices.num', 'ipadSc_urls.num', 'lang.num', 'vpp_lic']\n",
      "\n",
      "\n",
      "['284882215', 'Facebook', '389879808', 'USD', '0.0', '2974676', '212', '3.5', '3.5', '95.0', '4+', 'Social Networking', '37', '1', '29', '1']\n",
      "\n",
      "\n",
      "['389801252', 'Instagram', '113954816', 'USD', '0.0', '2161558', '1289', '4.5', '4.0', '10.23', '12+', 'Photo & Video', '37', '0', '29', '1']\n",
      "\n",
      "\n",
      "['529479190', 'Clash of Clans', '116476928', 'USD', '0.0', '2130805', '579', '4.5', '4.5', '9.24.12', '9+', 'Games', '38', '5', '18', '1']\n",
      "\n",
      "\n",
      "['420009108', 'Temple Run', '65921024', 'USD', '0.0', '1724546', '3842', '4.5', '4.0', '1.6.2', '9+', 'Games', '40', '5', '1', '1']\n",
      "\n",
      "\n",
      "Number of rows: 7198\n",
      "Number of columns: 16\n",
      "\n",
      "\n",
      "\n",
      "Column names are: \n",
      "\n",
      "Google play store columns: \n",
      "\n",
      "['App', 'Category', 'Rating', 'Reviews', 'Size', 'Installs', 'Type', 'Price', 'Content Rating', 'Genres', 'Last Updated', 'Current Ver', 'Android Ver']\n",
      "\n",
      "\n",
      "Apple store columns: \n",
      "\n",
      "['id', 'track_name', 'size_bytes', 'currency', 'price', 'rating_count_tot', 'rating_count_ver', 'user_rating', 'user_rating_ver', 'ver', 'cont_rating', 'prime_genre', 'sup_devices.num', 'ipadSc_urls.num', 'lang.num', 'vpp_lic']\n"
     ]
    }
   ],
   "source": [
    "print(\"Google play store explored data are \\n \")\n",
    "explore_data(android_apps_data, 0, 5, True)\n",
    "print(\"Apple store explored data are : \\n \")\n",
    "explore_data(apple_apps_data, 0, 5, True)\n",
    "print()\n",
    "print()\n",
    "print(\"Column names are: \\n\")\n",
    "print(\"Google play store columns: \\n\")\n",
    "print(android_header)\n",
    "print()\n",
    "print()\n",
    "print(\"Apple store columns: \\n\")\n",
    "print(apple_header)\n",
    "\n"
   ]
  },
  {
   "cell_type": "markdown",
   "metadata": {},
   "source": [
    "\n",
    "We see that the Google Play data set has 10841 apps and 13 columns. At a quick glance, the columns that might be useful for the purpose of our analysis are 'App', 'Category', 'Reviews', 'Installs', 'Type', 'Price', and 'Genres'.\n",
    "\n",
    "We have 7197 iOS apps in this data set, and the columns that seem interesting are: 'track_name', 'currency', 'price', 'rating_count_tot', 'rating_count_ver', and 'prime_genre'. Not all column names are self-explanatory in this case, but details about each column can be found in the data set [column details](https://www.kaggle.com/ramamet4/app-store-apple-data-set-10k-apps/home)\n"
   ]
  },
  {
   "cell_type": "markdown",
   "metadata": {},
   "source": [
    "# Cleaning the Data\n",
    "***\n",
    "The Google Play data set has a dedicated [discussion section](https://www.kaggle.com/lava18/google-play-store-apps/discussion), and we can see that [one of the discussions](https://www.kaggle.com/lava18/google-play-store-apps/discussion/66015) outlines an error for row 10472. Let's print this row and compare it against the header and another row that is correct."
   ]
  },
  {
   "cell_type": "code",
   "execution_count": 4,
   "metadata": {
    "collapsed": false
   },
   "outputs": [
    {
     "name": "stdout",
     "output_type": "stream",
     "text": [
      "Android erroneous row. \n",
      "\n",
      "['Life Made WI-Fi Touchscreen Photo Frame', '1.9', '19', '3.0M', '1,000+', 'Free', '0', 'Everyone', '', 'February 11, 2018', '1.0.19', '4.0 and up']\n",
      "\n",
      "The row 10472 corresponds to the app LifeMade WI-Fi Touchscreen Photo Frame,and we can see that the rating is 19.This is clearly off because the maximum rating for a Google Play app is 5. As a consequence, we'll delete this row.\n",
      "\n",
      "\n",
      "['App', 'Category', 'Rating', 'Reviews', 'Size', 'Installs', 'Type', 'Price', 'Content Rating', 'Genres', 'Last Updated', 'Current Ver', 'Android Ver']\n"
     ]
    }
   ],
   "source": [
    "print(\"Android erroneous row. \\n\")\n",
    "print(android_data[10472])\n",
    "print()\n",
    "print(\"The row 10472 corresponds to the app Life\"\n",
    "      \"Made WI-Fi Touchscreen Photo Frame,\"\n",
    "      \"and we can see that the rating is 19.\"\n",
    "      \"This is clearly off because the maximum \"\n",
    "      \"rating for a Google Play app is 5. \"\n",
    "      \"As a consequence, we'll delete this row.\\n\")\n",
    "print()\n",
    "print(android_header)\n"
   ]
  },
  {
   "cell_type": "code",
   "execution_count": 5,
   "metadata": {
    "collapsed": false
   },
   "outputs": [
    {
     "name": "stdout",
     "output_type": "stream",
     "text": [
      "10841\n",
      "\n",
      "10840\n"
     ]
    }
   ],
   "source": [
    "print(len(android_data))\n",
    "del android_data[10472]\n",
    "print()\n",
    "print(len(android_data))"
   ]
  },
  {
   "cell_type": "markdown",
   "metadata": {},
   "source": [
    "## 1. Removing duplicate data\n",
    "***\n",
    "## Part one\n",
    "If we explore the Google Play data set long enough, we'll find that some apps have more than one entry. For instance, the application Instagram has four entries:"
   ]
  },
  {
   "cell_type": "code",
   "execution_count": 6,
   "metadata": {
    "collapsed": false
   },
   "outputs": [
    {
     "name": "stdout",
     "output_type": "stream",
     "text": [
      "['Instagram', 'SOCIAL', '4.5', '66577313', 'Varies with device', '1,000,000,000+', 'Free', '0', 'Teen', 'Social', 'July 31, 2018', 'Varies with device', 'Varies with device']\n",
      "['Instagram', 'SOCIAL', '4.5', '66577446', 'Varies with device', '1,000,000,000+', 'Free', '0', 'Teen', 'Social', 'July 31, 2018', 'Varies with device', 'Varies with device']\n",
      "['Instagram', 'SOCIAL', '4.5', '66577313', 'Varies with device', '1,000,000,000+', 'Free', '0', 'Teen', 'Social', 'July 31, 2018', 'Varies with device', 'Varies with device']\n",
      "['Instagram', 'SOCIAL', '4.5', '66509917', 'Varies with device', '1,000,000,000+', 'Free', '0', 'Teen', 'Social', 'July 31, 2018', 'Varies with device', 'Varies with device']\n"
     ]
    }
   ],
   "source": [
    "for app in android_data:\n",
    "    name = app[0]\n",
    "    if name == 'Instagram':\n",
    "        print(app)"
   ]
  },
  {
   "cell_type": "markdown",
   "metadata": {},
   "source": [
    "In total, there are 1,181 cases where an app occurs more than once:"
   ]
  },
  {
   "cell_type": "code",
   "execution_count": 7,
   "metadata": {
    "collapsed": false
   },
   "outputs": [
    {
     "name": "stdout",
     "output_type": "stream",
     "text": [
      "The number of duplicate apps is : 1181\n",
      "\n",
      "Examples of duplicate apps is such as  ['Quick PDF Scanner + OCR FREE', 'Box', 'Google My Business', 'ZOOM Cloud Meetings', 'join.me - Simple Meetings', 'Box', 'Zenefits', 'Google Ads', 'Google My Business', 'Slack']\n"
     ]
    }
   ],
   "source": [
    "duplicates =[]\n",
    "unique_apps = []\n",
    "\n",
    "for app in android_data:\n",
    "    name = app[0]\n",
    "    if name in unique_apps:\n",
    "        duplicates.append(name)\n",
    "    unique_apps.append(name)\n",
    "\n",
    "print(\"The number of duplicate apps is :\", len(duplicates))\n",
    "print()\n",
    "print(\"Examples of duplicate apps is such as \", duplicates[:10])\n"
   ]
  },
  {
   "cell_type": "markdown",
   "metadata": {},
   "source": [
    "We don't want to count certain apps more than once when we analyze data, so we need to remove the duplicate entries and keep only one entry per app. One thing we could do is remove the duplicate rows randomly, but we could probably find a better way.\n",
    "\n",
    "If you examine the rows we printed two cells above for the Instagram app, the main difference happens on the fourth position of each row, which corresponds to the number of reviews. The different numbers show that the data was collected at different times. We can use this to build a criterion for keeping rows. We won't remove rows randomly, but rather we'll keep the rows that have the highest number of reviews because the higher the number of reviews, the more reliable the ratings.\n",
    "\n",
    "To do that, we will:\n",
    "\n",
    "- Create a dictionary where each key is a unique app name, and the value is the highest number of reviews of that app\n",
    "- Use the dictionary to create a new data set, which will have only one entry per app (and we only select the apps with the highest number of reviews)\n"
   ]
  },
  {
   "cell_type": "markdown",
   "metadata": {},
   "source": [
    "## Part two\n",
    "Lets start by building the dictionary"
   ]
  },
  {
   "cell_type": "code",
   "execution_count": 8,
   "metadata": {
    "collapsed": false,
    "scrolled": true
   },
   "outputs": [
    {
     "name": "stdout",
     "output_type": "stream",
     "text": [
      "Expected length : \n",
      " 9659\n",
      "Actual length : \n",
      " 9659\n"
     ]
    }
   ],
   "source": [
    "reviews_max = {}\n",
    "\n",
    "for app in android_data:\n",
    "    name = app[0]\n",
    "    no_reviews = float(app[3])\n",
    "        \n",
    "    if name in reviews_max and reviews_max[name] < no_reviews:\n",
    "        reviews_max[name] = no_reviews\n",
    "    \n",
    "    elif name not in reviews_max:\n",
    "        reviews_max[name] = no_reviews\n",
    "\n",
    "print(\"Expected length : \\n\", len(android_data)-1181)\n",
    "print(\"Actual length : \\n\", len(reviews_max))"
   ]
  },
  {
   "cell_type": "markdown",
   "metadata": {},
   "source": [
    "We are going to use the dictionary above to remove the duplicate rows. \n",
    "- Start by creating two empty lists: `android_clean` (which will store our new cleaned data set) and `already_added` (which will just store app names).\n",
    "- Loop through the Google Play data set, without including the header row, and for each iteration:\n",
    "1. assign the app name to a variable named name\n",
    "2. convert the number of reviews to `float`, and assign it to a variable named `n_reviews`\n",
    "- If n_reviews is the same as the number of maximum reviews of the app name (the number can be found in the reviews_max dictionary) and name is not already in the list already_added, then:\n",
    "1. append the entire row to the `android_clean` list\n",
    "2. append the `name` to the `already_added` list.\n",
    "- The `android_clean` data set should have 9,659 rows."
   ]
  },
  {
   "cell_type": "code",
   "execution_count": 9,
   "metadata": {
    "collapsed": false
   },
   "outputs": [],
   "source": [
    "android_clean = []\n",
    "already_added = []\n",
    "\n",
    "for app in android_data:\n",
    "    name = app[0]\n",
    "    n_reviews = float(app[3])\n",
    "    \n",
    "    for name in reviews_max:\n",
    "        if (n_reviews == reviews_max[name]) and (name not in already_added):\n",
    "            android_clean.append(app)\n",
    "            already_added.append(name)\n",
    "            "
   ]
  },
  {
   "cell_type": "markdown",
   "metadata": {},
   "source": [
    "Now, lets explore the `android_clean` data, which is cleaned data, to ensure that there are only 9,659 rows."
   ]
  },
  {
   "cell_type": "code",
   "execution_count": 20,
   "metadata": {
    "collapsed": false,
    "scrolled": true
   },
   "outputs": [
    {
     "name": "stdout",
     "output_type": "stream",
     "text": [
      "['Photo Editor & Candy Camera & Grid & ScrapBook', 'ART_AND_DESIGN', '4.1', '159', '19M', '10,000+', 'Free', '0', 'Everyone', 'Art & Design', 'January 7, 2018', '1.0.0', '4.0.3 and up']\n",
      "\n",
      "\n",
      "['Photo Editor & Candy Camera & Grid & ScrapBook', 'ART_AND_DESIGN', '4.1', '159', '19M', '10,000+', 'Free', '0', 'Everyone', 'Art & Design', 'January 7, 2018', '1.0.0', '4.0.3 and up']\n",
      "\n",
      "\n",
      "['Photo Editor & Candy Camera & Grid & ScrapBook', 'ART_AND_DESIGN', '4.1', '159', '19M', '10,000+', 'Free', '0', 'Everyone', 'Art & Design', 'January 7, 2018', '1.0.0', '4.0.3 and up']\n",
      "\n",
      "\n",
      "Number of rows: 9659\n",
      "Number of columns: 13\n",
      "\n"
     ]
    }
   ],
   "source": [
    "explore_data(android_clean, 0, 3, True)"
   ]
  },
  {
   "cell_type": "markdown",
   "metadata": {},
   "source": [
    "## 2. Removing non English apps\n",
    "***\n",
    "\n",
    "Remember that the company develops their applications in English, but the data sets both have apps with names that suggest they are not directed toward an English-speaking audience.\n"
   ]
  },
  {
   "cell_type": "code",
   "execution_count": 11,
   "metadata": {
    "collapsed": false
   },
   "outputs": [
    {
     "name": "stdout",
     "output_type": "stream",
     "text": [
      "爱奇艺PPS -《欢乐颂2》电视剧热播\n",
      "【脱出ゲーム】絶対に最後までプレイしないで 〜謎解き＆ブロックパズル〜\n",
      "SHADOWGUN LEGENDS\n",
      "Droid PRoCon BF3\n"
     ]
    }
   ],
   "source": [
    "print(apple_data[813][1])\n",
    "print(apple_data[6731][1])\n",
    "\n",
    "print(android_clean[4412][0])\n",
    "print(android_clean[7940][0])"
   ]
  },
  {
   "cell_type": "markdown",
   "metadata": {},
   "source": [
    "To remove non-English apps, we are going to remove apps that have names containing a symbol that is not commonly used in English text. \n",
    "NB: English text usually includes letters from the English alphabet, numbers composed of digits from 0 to 9, punctuation marks (., !, ?, ;), and other symbols (+, *, /).\n",
    "\n",
    "All these characters that are specific to English texts are encoded using the ASCII standard. Each ASCII character has a corresponding number between 0 and 127 associated with it, and we can take advantage of that to build a function that checks an app name and tells us whether it contains non-ASCII characters.\n",
    "\n",
    "We built this function below, and we use the built-in ord() function to find out the corresponding encoding number of each character.\n",
    "\n",
    "The function seems to work fine, but some English app names use emojis or other symbols (™, — (em dash), – (en dash), etc.) that fall outside of the ASCII range. Because of this, we'll remove useful apps if we use the function in its current form. \n",
    "Therefore, we'll only remove an app if its name has more than three characters with corresponding numbers falling outside the ASCII range. This means all English apps with up to three emoji or other special characters will still be labeled as English.\n"
   ]
  },
  {
   "cell_type": "code",
   "execution_count": 12,
   "metadata": {
    "collapsed": false
   },
   "outputs": [
    {
     "name": "stdout",
     "output_type": "stream",
     "text": [
      "True\n"
     ]
    }
   ],
   "source": [
    "def is_english(name):\n",
    "    non_ascii = 0\n",
    "    \n",
    "    for character in name:\n",
    "        if ord(character) > 127:\n",
    "            non_ascii += 1\n",
    "            \n",
    "    if non_ascii > 3:\n",
    "        return False\n",
    "    else:\n",
    "        return True\n",
    "\n",
    "print(is_english('Instachat 😜'))\n",
    "    \n",
    "        "
   ]
  },
  {
   "cell_type": "markdown",
   "metadata": {},
   "source": [
    "The function is still not perfect, and very few non-English apps might get past our filter, but this seems good enough at this point in our analysis\n",
    "We shouldn't spend too much time on optimization at this point.\n",
    "\n",
    "Below, we use the is_english() function to filter out the non-English apps for both data sets:\n"
   ]
  },
  {
   "cell_type": "code",
   "execution_count": 13,
   "metadata": {
    "collapsed": false
   },
   "outputs": [
    {
     "name": "stdout",
     "output_type": "stream",
     "text": [
      "['Photo Editor & Candy Camera & Grid & ScrapBook', 'ART_AND_DESIGN', '4.1', '159', '19M', '10,000+', 'Free', '0', 'Everyone', 'Art & Design', 'January 7, 2018', '1.0.0', '4.0.3 and up']\n",
      "\n",
      "\n",
      "['Photo Editor & Candy Camera & Grid & ScrapBook', 'ART_AND_DESIGN', '4.1', '159', '19M', '10,000+', 'Free', '0', 'Everyone', 'Art & Design', 'January 7, 2018', '1.0.0', '4.0.3 and up']\n",
      "\n",
      "\n",
      "['Photo Editor & Candy Camera & Grid & ScrapBook', 'ART_AND_DESIGN', '4.1', '159', '19M', '10,000+', 'Free', '0', 'Everyone', 'Art & Design', 'January 7, 2018', '1.0.0', '4.0.3 and up']\n",
      "\n",
      "\n",
      "Number of rows: 9632\n",
      "Number of columns: 13\n",
      "\n",
      "\n",
      "['284882215', 'Facebook', '389879808', 'USD', '0.0', '2974676', '212', '3.5', '3.5', '95.0', '4+', 'Social Networking', '37', '1', '29', '1']\n",
      "\n",
      "\n",
      "['389801252', 'Instagram', '113954816', 'USD', '0.0', '2161558', '1289', '4.5', '4.0', '10.23', '12+', 'Photo & Video', '37', '0', '29', '1']\n",
      "\n",
      "\n",
      "['529479190', 'Clash of Clans', '116476928', 'USD', '0.0', '2130805', '579', '4.5', '4.5', '9.24.12', '9+', 'Games', '38', '5', '18', '1']\n",
      "\n",
      "\n",
      "Number of rows: 6183\n",
      "Number of columns: 16\n",
      "\n"
     ]
    }
   ],
   "source": [
    "android_english = []\n",
    "apple_english = []\n",
    "\n",
    "for app in android_clean:\n",
    "    if is_english(app[0]):\n",
    "        android_english.append(app)\n",
    "        \n",
    "for app in apple_data:\n",
    "    if is_english(app[1]):\n",
    "        apple_english.append(app)\n",
    "        \n",
    "explore_data(android_english, 0, 3, True)\n",
    "print()\n",
    "explore_data(apple_english, 0, 3, True)\n"
   ]
  },
  {
   "cell_type": "markdown",
   "metadata": {},
   "source": [
    "## 3. Isolating Free Apps\n",
    "***\n",
    "So far, we have removed:\n",
    "- inaccurate data\n",
    "- duplicate data entries\n",
    "- non-english apps\n",
    "\n",
    "The company only builds apps that are free to download and install. The data sets contain both free and non-free apps.\n",
    "Isolating the free apps will be our last step in the data cleaning."
   ]
  },
  {
   "cell_type": "code",
   "execution_count": 14,
   "metadata": {
    "collapsed": false
   },
   "outputs": [
    {
     "name": "stdout",
     "output_type": "stream",
     "text": [
      "['Photo Editor & Candy Camera & Grid & ScrapBook', 'ART_AND_DESIGN', '4.1', '159', '19M', '10,000+', 'Free', '0', 'Everyone', 'Art & Design', 'January 7, 2018', '1.0.0', '4.0.3 and up']\n",
      "\n",
      "\n",
      "['Photo Editor & Candy Camera & Grid & ScrapBook', 'ART_AND_DESIGN', '4.1', '159', '19M', '10,000+', 'Free', '0', 'Everyone', 'Art & Design', 'January 7, 2018', '1.0.0', '4.0.3 and up']\n",
      "\n",
      "\n",
      "['Photo Editor & Candy Camera & Grid & ScrapBook', 'ART_AND_DESIGN', '4.1', '159', '19M', '10,000+', 'Free', '0', 'Everyone', 'Art & Design', 'January 7, 2018', '1.0.0', '4.0.3 and up']\n",
      "\n",
      "\n",
      "Number of rows: 8361\n",
      "Number of columns: 13\n",
      "\n",
      "['284882215', 'Facebook', '389879808', 'USD', '0.0', '2974676', '212', '3.5', '3.5', '95.0', '4+', 'Social Networking', '37', '1', '29', '1']\n",
      "\n",
      "\n",
      "['389801252', 'Instagram', '113954816', 'USD', '0.0', '2161558', '1289', '4.5', '4.0', '10.23', '12+', 'Photo & Video', '37', '0', '29', '1']\n",
      "\n",
      "\n",
      "['529479190', 'Clash of Clans', '116476928', 'USD', '0.0', '2130805', '579', '4.5', '4.5', '9.24.12', '9+', 'Games', '38', '5', '18', '1']\n",
      "\n",
      "\n",
      "Number of rows: 3222\n",
      "Number of columns: 16\n",
      "\n"
     ]
    }
   ],
   "source": [
    "android_final = []\n",
    "apple_final = []\n",
    "\n",
    "for app in android_english:\n",
    "    price = app[7]\n",
    "    if price == '0':\n",
    "        android_final.append(app)\n",
    "        \n",
    "for app in apple_english:\n",
    "    price = app[4]\n",
    "    if price == '0.0':\n",
    "        apple_final.append(app)\n",
    "        \n",
    "explore_data(android_final, 0, 3, True)\n",
    "explore_data(apple_final, 0, 3, True)\n",
    "        "
   ]
  },
  {
   "cell_type": "markdown",
   "metadata": {},
   "source": [
    "# Data Analysis\n",
    "***\n",
    "So far, we have managed to clean the data and are now ready to start our anlysis. The aim of this analysis is to determine the kinds of apps that are likely to attract more users because the company's revenue is highly influenced by the number of people using their apps.\n",
    "\n",
    "To minimize risks and overhead, the company's validation strategy for an app idea is comprised of three steps:\n",
    "- Build a minimal Android version of the app, and add it to Google Play.\n",
    "- If the app has a good response from users, we develop it further.\n",
    "- If the app is profitable after six months, we build an iOS version of the app and add it to the App Store.\n",
    "\n",
    "Because the end game is to build apps that can be added on both Google Play Store and App Store, we need to find app profiles that are successful on both markets. "
   ]
  },
  {
   "cell_type": "markdown",
   "metadata": {},
   "source": [
    "## Part one\n",
    "\n",
    "## Most Common Apps by genre\n",
    "Let's begin the analysis by getting a sense of the most common genres for each market. For this, we'll build a frequency table for the prime_genre column of the App Store data set, and the Genres and Category columns of the Google Play data set.\n",
    "\n",
    "We'll build two functions we can use to analyze the frequency tables:\n",
    "- One function to generate frequency tables that show percentages\n",
    "- Another function that we can use to display the percentages in a descending order using the built-in function `sorted()`. (This function doesn't work well with dictioanries as it inspects the keys, but we want to inspect the values. Threfore, we convert our dictionary into a list of tuple, with each tuple containing a dictionary key and its corresponding frequency. The sorted function will take the list of tuples and return a list of its elements in ascending or descending order).\n"
   ]
  },
  {
   "cell_type": "code",
   "execution_count": 15,
   "metadata": {
    "collapsed": true
   },
   "outputs": [],
   "source": [
    "# function for generating a frequency table\n",
    "\n",
    "def freq_table(dataset, index):\n",
    "    table = {}\n",
    "    total = 0\n",
    "    \n",
    "    for row in dataset:\n",
    "        total += 1\n",
    "        value = row[index]\n",
    "        if value in table:\n",
    "            table[value] += 1\n",
    "        else:\n",
    "            table[value] = 1\n",
    "    \n",
    "    table_percentages = {}\n",
    "    for key in table:\n",
    "        percentage = (table[key] / total) * 100\n",
    "        table_percentages[key] = percentage \n",
    "    \n",
    "    return table_percentages\n",
    "\n",
    "# function for sorting a dictionary\n",
    "\n",
    "def display_table(dataset, index): # dataset is a list of lists\n",
    "    table = freq_table(dataset, index)  # generate a frequency table using the freq_table function\n",
    "    table_display = []\n",
    "    for key in table:\n",
    "        key_val_as_tuple = (table[key], key)  # a tuple containing value key pairs\n",
    "        table_display.append(key_val_as_tuple)  # a list of tuple\n",
    "        \n",
    "    table_sorted = sorted(table_display, reverse=True)  # returns table sorted in descending order\n",
    "    for entry in table_sorted:\n",
    "        print(entry[1], ':', entry[0])  # print the key value pairs inside the sorted table"
   ]
  },
  {
   "cell_type": "code",
   "execution_count": 16,
   "metadata": {
    "collapsed": false
   },
   "outputs": [
    {
     "name": "stdout",
     "output_type": "stream",
     "text": [
      "Games : 58.16263190564867\n",
      "Entertainment : 7.883302296710118\n",
      "Photo & Video : 4.9658597144630665\n",
      "Education : 3.662321539416512\n",
      "Social Networking : 3.2898820608317814\n",
      "Shopping : 2.60707635009311\n",
      "Utilities : 2.5139664804469275\n",
      "Sports : 2.1415270018621975\n",
      "Music : 2.0484171322160147\n",
      "Health & Fitness : 2.0173805090006205\n",
      "Productivity : 1.7380509000620732\n",
      "Lifestyle : 1.5828677839851024\n",
      "News : 1.3345747982619491\n",
      "Travel : 1.2414649286157666\n",
      "Finance : 1.1173184357541899\n",
      "Weather : 0.8690254500310366\n",
      "Food & Drink : 0.8069522036002483\n",
      "Reference : 0.5586592178770949\n",
      "Business : 0.5276225946617008\n",
      "Book : 0.4345127250155183\n",
      "Navigation : 0.186219739292365\n",
      "Medical : 0.186219739292365\n",
      "Catalogs : 0.12414649286157665\n"
     ]
    }
   ],
   "source": [
    "display_table(apple_final, -5)\n"
   ]
  },
  {
   "cell_type": "markdown",
   "metadata": {},
   "source": [
    "On examining the App Store apps, we can see that among the free English apps, more than a half (58.16%) are games. Entertainment apps are close to 8%, followed by photo and video apps, which are close to 5%. Only 3.66% of the apps are designed for education, followed by social networking apps which amount for 3.29% of the apps in our data set.\n",
    "\n",
    "The general impression is that App Store (at least the part containing free English apps) is dominated by apps that are designed for fun (games, entertainment, photo and video, social networking, sports, music, etc.), while apps with practical purposes (education, shopping, utilities, productivity, lifestyle, etc.) are more rare. However, the fact that fun apps are the most numerous doesn't also imply that they also have the greatest number of users — the demand might not be the same as the offer."
   ]
  },
  {
   "cell_type": "code",
   "execution_count": 17,
   "metadata": {
    "collapsed": false
   },
   "outputs": [
    {
     "name": "stdout",
     "output_type": "stream",
     "text": [
      "DATING : 13.718454730295418\n",
      "FAMILY : 12.271259418729818\n",
      "GAME : 8.63533070206913\n",
      "TOOLS : 5.346250448510944\n",
      "BOOKS_AND_REFERENCE : 4.210022724554479\n",
      "EVENTS : 3.7555316349718932\n",
      "BEAUTY : 3.7076904676474105\n",
      "MEDICAL : 3.3010405453893075\n",
      "LIFESTYLE : 2.571462743690946\n",
      "PRODUCTIVITY : 2.4757804090419806\n",
      "HEALTH_AND_FITNESS : 2.4757804090419806\n",
      "PHOTOGRAPHY : 2.46382011721086\n",
      "PERSONALIZATION : 2.415978949886377\n",
      "SPORTS : 2.3083363234062912\n",
      "FINANCE : 2.2365745724195674\n",
      "ART_AND_DESIGN : 2.1408922377706014\n",
      "COMMUNICATION : 2.0810907786149984\n",
      "COMICS : 2.0093290276282745\n",
      "LIBRARIES_AND_DEMO : 1.9614878603037913\n",
      "TRAVEL_AND_LOCAL : 1.8179643583303433\n",
      "SHOPPING : 1.8179643583303433\n",
      "HOUSE_AND_HOME : 1.7820834828369811\n",
      "BUSINESS : 1.7342423155124984\n",
      "SOCIAL : 1.6624805645257745\n",
      "NEWS_AND_MAGAZINES : 1.5787585217079296\n",
      "VIDEO_PLAYERS : 1.5548379380456883\n",
      "EDUCATION : 1.5428776462145677\n",
      "FOOD_AND_DRINK : 1.303671809592154\n",
      "AUTO_AND_VEHICLES : 1.2199497667743093\n",
      "PARENTING : 1.1362277239564644\n",
      "ENTERTAINMENT : 1.112307140294223\n",
      "MAPS_AND_NAVIGATION : 0.897021887334051\n",
      "WEATHER : 0.7534983853606028\n"
     ]
    }
   ],
   "source": [
    "# examining the Genres and Category columns of the Google Play data set \n",
    "display_table(android_final, 1) # Category"
   ]
  },
  {
   "cell_type": "markdown",
   "metadata": {},
   "source": [
    "The landscape seems significantly different on Google Play: there are not that many apps designed for fun, and it seems that a good number of apps are designed for practical purposes (family, tools, business, lifestyle, productivity, etc.). However, if we investigate this further, we can see that the family category (which accounts for almost 19% of the apps) means mostly games for kids.\n",
    "\n",
    "Even so, practical apps seem to have a better representation on Google Play compared to App Store. This picture is also confirmed by the frequency table we see for the Genres column:\n"
   ]
  },
  {
   "cell_type": "code",
   "execution_count": 18,
   "metadata": {
    "collapsed": false
   },
   "outputs": [
    {
     "name": "stdout",
     "output_type": "stream",
     "text": [
      "Dating : 13.718454730295418\n",
      "Tools : 5.334290156679823\n",
      "Books & Reference : 4.210022724554479\n",
      "Events : 3.7555316349718932\n",
      "Beauty : 3.7076904676474105\n",
      "Entertainment : 3.540246382011721\n",
      "Medical : 3.3010405453893075\n",
      "Education : 2.8824303313000836\n",
      "Action : 2.7149862456643943\n",
      "Lifestyle : 2.5595024518598253\n",
      "Productivity : 2.4757804090419806\n",
      "Health & Fitness : 2.4757804090419806\n",
      "Photography : 2.46382011721086\n",
      "Personalization : 2.415978949886377\n",
      "Sports : 2.380098074393015\n",
      "Finance : 2.2365745724195674\n",
      "Communication : 2.0810907786149984\n",
      "Comics : 1.9854084439660327\n",
      "Libraries & Demo : 1.9614878603037913\n",
      "Art & Design : 1.9375672766415502\n",
      "Shopping : 1.8179643583303433\n",
      "Travel & Local : 1.8060040664992227\n",
      "House & Home : 1.7820834828369811\n",
      "Business : 1.7342423155124984\n",
      "Social : 1.6624805645257745\n",
      "Arcade : 1.6624805645257745\n",
      "Simulation : 1.6146393972012916\n",
      "News & Magazines : 1.5787585217079296\n",
      "Video Players & Editors : 1.530917354383447\n",
      "Food & Drink : 1.303671809592154\n",
      "Casual : 1.2438703504365507\n",
      "Auto & Vehicles : 1.2199497667743093\n",
      "Maps & Navigation : 0.897021887334051\n",
      "Racing : 0.8850615955029303\n",
      "Strategy : 0.8731013036718096\n",
      "Puzzle : 0.8731013036718096\n",
      "Role Playing : 0.8372204281784476\n",
      "Weather : 0.7534983853606028\n",
      "Parenting : 0.7295778016983614\n",
      "Educational;Education : 0.5621337160626719\n",
      "Adventure : 0.5501734242315512\n",
      "Casino : 0.4544910895825858\n",
      "Card : 0.37076904676474104\n",
      "Parenting;Education : 0.3109675876091377\n",
      "Education;Education : 0.3109675876091377\n",
      "Board : 0.2750867121157756\n",
      "Racing;Action & Adventure : 0.26312642028465494\n",
      "Casual;Pretend Play : 0.26312642028465494\n",
      "Music : 0.2511661284535343\n",
      "Art & Design;Action & Adventure : 0.2272455447912929\n",
      "Word : 0.2152852529601722\n",
      "Puzzle;Brain Games : 0.20332496112905157\n",
      "Entertainment;Music & Video : 0.20332496112905157\n",
      "Educational : 0.19136466929793086\n",
      "Trivia : 0.1794043774668102\n",
      "Casual;Action & Adventure : 0.14352350197344815\n",
      "Education;Creativity : 0.13156321014232747\n",
      "Arcade;Action & Adventure : 0.1196029183112068\n",
      "Casual;Brain Games : 0.1076426264800861\n",
      "Action;Action & Adventure : 0.1076426264800861\n",
      "Simulation;Action & Adventure : 0.08372204281784475\n",
      "Parenting;Music & Video : 0.08372204281784475\n",
      "Board;Brain Games : 0.08372204281784475\n",
      "Art & Design;Creativity : 0.08372204281784475\n",
      "Entertainment;Brain Games : 0.07176175098672408\n",
      "Educational;Pretend Play : 0.07176175098672408\n",
      "Educational;Brain Games : 0.07176175098672408\n",
      "Casual;Creativity : 0.07176175098672408\n",
      "Role Playing;Pretend Play : 0.0598014591556034\n",
      "Entertainment;Action & Adventure : 0.0598014591556034\n",
      "Education;Pretend Play : 0.0598014591556034\n",
      "Art & Design;Pretend Play : 0.0598014591556034\n",
      "Music;Music & Video : 0.047841167324482715\n",
      "Role Playing;Action & Adventure : 0.03588087549336204\n",
      "Puzzle;Action & Adventure : 0.03588087549336204\n",
      "Entertainment;Creativity : 0.03588087549336204\n",
      "Education;Music & Video : 0.03588087549336204\n",
      "Education;Brain Games : 0.03588087549336204\n",
      "Education;Action & Adventure : 0.03588087549336204\n",
      "Video Players & Editors;Music & Video : 0.023920583662241358\n",
      "Sports;Action & Adventure : 0.023920583662241358\n",
      "Simulation;Pretend Play : 0.023920583662241358\n",
      "Puzzle;Creativity : 0.023920583662241358\n",
      "Entertainment;Pretend Play : 0.023920583662241358\n",
      "Educational;Creativity : 0.023920583662241358\n",
      "Educational;Action & Adventure : 0.023920583662241358\n",
      "Comics;Creativity : 0.023920583662241358\n",
      "Casual;Education : 0.023920583662241358\n",
      "Board;Action & Adventure : 0.023920583662241358\n",
      "Adventure;Action & Adventure : 0.023920583662241358\n",
      "Video Players & Editors;Creativity : 0.011960291831120679\n",
      "Travel & Local;Action & Adventure : 0.011960291831120679\n",
      "Tools;Education : 0.011960291831120679\n",
      "Strategy;Education : 0.011960291831120679\n",
      "Strategy;Creativity : 0.011960291831120679\n",
      "Strategy;Action & Adventure : 0.011960291831120679\n",
      "Role Playing;Brain Games : 0.011960291831120679\n",
      "Racing;Pretend Play : 0.011960291831120679\n",
      "Parenting;Brain Games : 0.011960291831120679\n",
      "Music & Audio;Music & Video : 0.011960291831120679\n",
      "Lifestyle;Pretend Play : 0.011960291831120679\n",
      "Lifestyle;Education : 0.011960291831120679\n",
      "Health & Fitness;Education : 0.011960291831120679\n",
      "Health & Fitness;Action & Adventure : 0.011960291831120679\n",
      "Entertainment;Education : 0.011960291831120679\n",
      "Casual;Music & Video : 0.011960291831120679\n",
      "Card;Action & Adventure : 0.011960291831120679\n",
      "Arcade;Pretend Play : 0.011960291831120679\n",
      "Adventure;Education : 0.011960291831120679\n"
     ]
    }
   ],
   "source": [
    "display_table(android_final, -4) # genre"
   ]
  },
  {
   "cell_type": "markdown",
   "metadata": {},
   "source": [
    "The difference between the Genres and the Category columns is not crystal clear, but one thing we can notice is that the Genres column is much more granular (it has more categories). We're only looking for the bigger picture at the moment, so we'll only work with the Category column moving forward.\n",
    "\n",
    "Up to this point, we found that the App Store is dominated by apps designed for fun, while Google Play shows a more balanced landscape of both practical and for-fun apps. Now we'd like to get an idea about the kind of apps that have most users."
   ]
  },
  {
   "cell_type": "markdown",
   "metadata": {},
   "source": [
    "## 1. Most Popular Apps by Genre on the App Store\n",
    "One way to find out what genres are the most popular (have the most users) is to calculate the average number of installs for each app genre. For the Google Play data set, we can find this information in the Installs column, but this information is missing for the App Store data set. As a workaround, we'll take the total number of user ratings as a proxy, which we can find in the rating_count_tot app.\n",
    "We will start by calculating the average number of user ratings per app genre on the App Store. To do that, we'll need to:\n",
    "- Isolate the apps of each genre.\n",
    "- Sum up the user ratings for the apps of that genre.\n",
    "- Divide the sum by the number of apps belonging to that genre (not by the total number of apps).\n"
   ]
  },
  {
   "cell_type": "code",
   "execution_count": 22,
   "metadata": {
    "collapsed": false
   },
   "outputs": [
    {
     "name": "stdout",
     "output_type": "stream",
     "text": [
      "Photo & Video : 28441.54375\n",
      "Entertainment : 14029.830708661417\n",
      "Reference : 74942.11111111111\n",
      "Shopping : 26919.690476190477\n",
      "Business : 7491.117647058823\n",
      "Sports : 23008.898550724636\n",
      "Navigation : 86090.33333333333\n",
      "Medical : 612.0\n",
      "Weather : 52279.892857142855\n",
      "Utilities : 18684.456790123455\n",
      "News : 21248.023255813954\n",
      "Social Networking : 71548.34905660378\n",
      "Travel : 28243.8\n",
      "Book : 39758.5\n",
      "Lifestyle : 16485.764705882353\n",
      "Finance : 31467.944444444445\n",
      "Games : 22788.6696905016\n",
      "Education : 7003.983050847458\n",
      "Health & Fitness : 23298.015384615384\n",
      "Productivity : 21028.410714285714\n",
      "Food & Drink : 33333.92307692308\n",
      "Music : 57326.530303030304\n",
      "Catalogs : 4004.0\n"
     ]
    }
   ],
   "source": [
    "# calculate the average number of user ratings per app genre on the App Store\n",
    "genre_apple = freq_table(apple_final, -5)  # dictionary of genres and frequencies as values\n",
    "\n",
    "for genre in genre_apple:\n",
    "    total = 0  # stores the sum of user ratings (the number of ratings, not the actual ratings) specific to each genre.\n",
    "    len_genre = 0  # stores the number of apps specific to each genre.\n",
    "    for row in apple_final:\n",
    "        genre_app = row[-5]\n",
    "        if genre == genre_app:\n",
    "            n_rating = float(row[5])\n",
    "            total += n_rating\n",
    "            len_genre += 1\n",
    "    average_rating = total / len_genre\n",
    "    print(genre, ':', average_rating)\n",
    "        \n"
   ]
  },
  {
   "cell_type": "code",
   "execution_count": 24,
   "metadata": {
    "collapsed": false
   },
   "outputs": [
    {
     "name": "stdout",
     "output_type": "stream",
     "text": [
      "Waze - GPS Navigation, Maps & Real-time Traffic : 345046\n",
      "Google Maps - Navigation & Transit : 154911\n",
      "Geocaching® : 12811\n",
      "CoPilot GPS – Car Navigation & Offline Maps : 3582\n",
      "ImmobilienScout24: Real Estate Search in Germany : 187\n",
      "Railway Route Search : 5\n"
     ]
    }
   ],
   "source": [
    "for app in apple_final:\n",
    "    if app[-5] == 'Navigation':\n",
    "        print(app[1], ':', app[5]) # print name and number of ratings"
   ]
  },
  {
   "cell_type": "markdown",
   "metadata": {},
   "source": [
    "After analyzing the results above, I would recommend `Navigation` as an app profile for the App Store seeing it has the most user ratings, ` 86090.33333333333`.\n",
    "However, this figure is heavily influenced by `Waze` and `Google Maps`, which have close to half a million user reviews together:\n",
    "\n",
    "The same pattern applies to social networking apps, where the average number is heavily influenced by a few giants like Facebook, Pinterest, Skype, etc. Same applies to music apps, where a few big players like Pandora, Spotify, and Shazam heavily influence the average number.\n",
    "\n",
    "Our aim is to find popular genres, but navigation, social networking or music apps might seem more popular than they really are. The average number of ratings seem to be skewed by very few apps which have hundreds of thousands of user ratings, while the other apps may struggle to get past the 10,000 threshold. We could get a better picture by removing these extremely popular apps for each genre and then rework the averages, but we'll leave this level of detail for later."
   ]
  },
  {
   "cell_type": "markdown",
   "metadata": {},
   "source": [
    "Reference apps have 74,942 user ratings on average, but it's actually the Bible and Dictionary.com which skew up the average rating:"
   ]
  },
  {
   "cell_type": "code",
   "execution_count": 25,
   "metadata": {
    "collapsed": false
   },
   "outputs": [
    {
     "name": "stdout",
     "output_type": "stream",
     "text": [
      "Bible : 985920\n",
      "Dictionary.com Dictionary & Thesaurus : 200047\n",
      "Dictionary.com Dictionary & Thesaurus for iPad : 54175\n",
      "Google Translate : 26786\n",
      "Muslim Pro: Ramadan 2017 Prayer Times, Azan, Quran : 18418\n",
      "New Furniture Mods - Pocket Wiki & Game Tools for Minecraft PC Edition : 17588\n",
      "Merriam-Webster Dictionary : 16849\n",
      "Night Sky : 12122\n",
      "City Maps for Minecraft PE - The Best Maps for Minecraft Pocket Edition (MCPE) : 8535\n",
      "LUCKY BLOCK MOD ™ for Minecraft PC Edition - The Best Pocket Wiki & Mods Installer Tools : 4693\n",
      "GUNS MODS for Minecraft PC Edition - Mods Tools : 1497\n",
      "Guides for Pokémon GO - Pokemon GO News and Cheats : 826\n",
      "WWDC : 762\n",
      "Horror Maps for Minecraft PE - Download The Scariest Maps for Minecraft Pocket Edition (MCPE) Free : 718\n",
      "VPN Express : 14\n",
      "Real Bike Traffic Rider Virtual Reality Glasses : 8\n",
      "教えて!goo : 0\n",
      "Jishokun-Japanese English Dictionary & Translator : 0\n"
     ]
    }
   ],
   "source": [
    "for app in apple_final:\n",
    "    if app[-5] == 'Reference':\n",
    "        print(app[1], ':', app[5])"
   ]
  },
  {
   "cell_type": "markdown",
   "metadata": {},
   "source": [
    "\n",
    "\n",
    "However, this niche seems to show some potential. One thing we could do is take another popular book and turn it into an app where we could add different features besides the raw version of the book. This might include daily quotes from the book, an audio version of the book, quizzes about the book, etc. On top of that, we could also embed a dictionary within the app, so users don't need to exit our app to look up words in an external app.\n",
    "\n",
    "This idea seems to fit well with the fact that the App Store is dominated by for-fun apps. This suggests the market might be a bit saturated with for-fun apps, which means a practical app might have more of a chance to stand out among the huge number of apps on the App Store.\n",
    "\n",
    "Other genres that seem popular include weather, book, food and drink, or finance. The book genre seem to overlap a bit with the app idea we described above, but the other genres don't seem too interesting to us:\n",
    "\n",
    "- Weather apps — people generally don't spend too much time in-app, and the chances of making profit from in-app adds are low. Also, getting reliable live weather data may require us to connect our apps to non-free APIs.\n",
    "\n",
    "- Food and drink — examples here include Starbucks, Dunkin' Donuts, McDonald's, etc. So making a popular food and drink app requires actual cooking and a delivery service, which is outside the scope of our company.\n",
    "\n",
    "- Finance apps — these apps involve banking, paying bills, money transfer, etc. Building a finance app requires domain knowledge, and we don't want to hire a finance expert just to build an app.\n"
   ]
  },
  {
   "cell_type": "markdown",
   "metadata": {},
   "source": [
    "## 2. Most Popular Apps by Genre on Google Play\n",
    "Lets analyze the Google Play market a bit."
   ]
  },
  {
   "cell_type": "code",
   "execution_count": 23,
   "metadata": {
    "collapsed": false
   },
   "outputs": [
    {
     "name": "stdout",
     "output_type": "stream",
     "text": [
      "1,000,000+ : 16.68460710441335\n",
      "100,000+ : 13.240043057050594\n",
      "10,000+ : 12.055974165769644\n",
      "10,000,000+ : 11.158952278435594\n",
      "50,000+ : 8.049276402344217\n",
      "1,000+ : 7.869872024877407\n",
      "5,000,000+ : 7.271857433321373\n",
      "500,000+ : 6.279153211338357\n",
      "5,000+ : 5.226647530199737\n",
      "100+ : 5.09508432005741\n",
      "50,000,000+ : 2.4398995335486187\n",
      "100,000,000+ : 2.2604951560818085\n",
      "500+ : 1.8418849419925845\n",
      "500,000,000+ : 0.2870470039468963\n",
      "1,000,000,000+ : 0.2392058366224136\n"
     ]
    }
   ],
   "source": [
    "display_table(android_final, 5)"
   ]
  },
  {
   "cell_type": "markdown",
   "metadata": {},
   "source": [
    "In the cell above, we have displayed the data for the install columns of the Google Play store. The install numbers don't seem precise enough — we can see that most values are open-ended (100+, 1,000+, 5,000+, etc.).\n",
    "For instance, we don't know whether an app with 100,000+ installs has 100,000 installs, 200,000, or 350,000. However, we don't need very precise data for our purposes — we only want to find out which app genres attract the most users, and we don't need perfect precision with respect to the number of users.\n",
    "We're going to leave the numbers as they are, which means that we'll consider that an app with 100,000+ installs has 100,000 installs, and an app with 1,000,000+ installs has 1,000,000 installs, and so on.\n",
    "To perform computations, however, we'll need to convert each install number from string to float. This means we need to remove the commas and the plus characters, otherwise the conversion will fail and raise an error.\n",
    "Let's calculate the average number of installs per app genre for the Google Play data set."
   ]
  },
  {
   "cell_type": "code",
   "execution_count": 26,
   "metadata": {
    "collapsed": false
   },
   "outputs": [
    {
     "name": "stdout",
     "output_type": "stream",
     "text": [
      "PHOTOGRAPHY : 22612378.640776698\n",
      "FAMILY : 6018386.93957115\n",
      "ENTERTAINMENT : 10762150.537634408\n",
      "MEDICAL : 149402.1739130435\n",
      "HOUSE_AND_HOME : 673355.7046979866\n",
      "LIBRARIES_AND_DEMO : 341140.243902439\n",
      "BOOKS_AND_REFERENCE : 4768215.909090909\n",
      "PARENTING : 342421.05263157893\n",
      "FINANCE : 2433743.3155080215\n",
      "NEWS_AND_MAGAZINES : 17959393.939393938\n",
      "VIDEO_PLAYERS : 30212769.230769232\n",
      "MAPS_AND_NAVIGATION : 6698400.0\n",
      "TOOLS : 18052507.829977628\n",
      "BEAUTY : 104612.90322580645\n",
      "BUSINESS : 4805448.275862069\n",
      "DATING : 131264.25457715782\n",
      "SPORTS : 5674093.264248705\n",
      "SOCIAL : 39456050.35971223\n",
      "HEALTH_AND_FITNESS : 5554251.207729469\n",
      "EDUCATION : 1513488.3720930233\n",
      "LIFESTYLE : 2350427.906976744\n",
      "SHOPPING : 9226710.52631579\n",
      "WEATHER : 5716984.126984127\n",
      "AUTO_AND_VEHICLES : 553823.5294117647\n",
      "PERSONALIZATION : 7529009.900990099\n",
      "COMMUNICATION : 63426839.08045977\n",
      "TRAVEL_AND_LOCAL : 19080684.210526317\n",
      "ART_AND_DESIGN : 680810.0558659218\n",
      "EVENTS : 55877.388535031845\n",
      "FOOD_AND_DRINK : 2014587.1559633028\n",
      "GAME : 18617437.673130196\n",
      "PRODUCTIVITY : 27939758.45410628\n",
      "COMICS : 278958.3333333333\n"
     ]
    }
   ],
   "source": [
    "android_categories = freq_table(android_final, 1)\n",
    "\n",
    "for category in android_categories:\n",
    "    total = 0  # stores the sum of installs specific to each genre\n",
    "    len_category = 0  # stores the number of apps specific to each genre\n",
    "    \n",
    "    for app in android_final:\n",
    "        category_app = app[1]\n",
    "        if category_app == category:\n",
    "            n_installs = app[5]\n",
    "            n_installs = n_installs.replace('+', '')\n",
    "            n_installs = n_installs.replace(',', '')\n",
    "            n_installs = float(n_installs)\n",
    "            total += n_installs\n",
    "            len_category += 1\n",
    "            \n",
    "    average_no_installs = total / len_category\n",
    "    print(category, ':', average_no_installs)\n",
    "    "
   ]
  },
  {
   "cell_type": "markdown",
   "metadata": {},
   "source": [
    "On average, communication apps have the most installs: 63426839. This number is heavily skewed up by a few apps that have over one billion installs (WhatsApp, Facebook Messenger, Skype, Google Chrome, Gmail, and Hangouts), and a few others with over 100 and 500 million installs:"
   ]
  },
  {
   "cell_type": "code",
   "execution_count": 29,
   "metadata": {
    "collapsed": false
   },
   "outputs": [
    {
     "name": "stdout",
     "output_type": "stream",
     "text": [
      "WhatsApp Messenger : 1,000,000,000+\n",
      "imo beta free calls and text : 100,000,000+\n",
      "Android Messages : 100,000,000+\n",
      "Google Duo - High Quality Video Calls : 500,000,000+\n",
      "Messenger – Text and Video Chat for Free : 1,000,000,000+\n",
      "imo free video calls and chat : 500,000,000+\n",
      "Skype - free IM & video calls : 1,000,000,000+\n",
      "Who : 100,000,000+\n",
      "GO SMS Pro - Messenger, Free Themes, Emoji : 100,000,000+\n",
      "LINE: Free Calls & Messages : 500,000,000+\n",
      "Google Chrome: Fast & Secure : 1,000,000,000+\n",
      "Firefox Browser fast & private : 100,000,000+\n",
      "UC Browser - Fast Download Private & Secure : 500,000,000+\n",
      "Gmail : 1,000,000,000+\n",
      "Hangouts : 1,000,000,000+\n",
      "Messenger Lite: Free Calls & Messages : 100,000,000+\n",
      "Kik : 100,000,000+\n",
      "KakaoTalk: Free Calls & Text : 100,000,000+\n",
      "Opera Mini - fast web browser : 100,000,000+\n",
      "Opera Browser: Fast and Secure : 100,000,000+\n",
      "Telegram : 100,000,000+\n",
      "Truecaller: Caller ID, SMS spam blocking & Dialer : 100,000,000+\n",
      "UC Browser Mini -Tiny Fast Private & Secure : 100,000,000+\n",
      "Viber Messenger : 500,000,000+\n",
      "WeChat : 100,000,000+\n",
      "Yahoo Mail – Stay Organized : 100,000,000+\n",
      "BBM - Free Calls & Messages : 100,000,000+\n"
     ]
    }
   ],
   "source": [
    "# analsis of the communication category\n",
    "for app in android_final:\n",
    "    if app[1] == 'COMMUNICATION' and (app[5] == '1,000,000,000+'\n",
    "                                      or app[5] == '500,000,000+'\n",
    "                                      or app[5] == '100,000,000+'):\n",
    "        print(app[0], ':', app[5])\n",
    "        "
   ]
  },
  {
   "cell_type": "markdown",
   "metadata": {},
   "source": [
    "If we removed all the communication apps that have over 50 million installs, the average would be reduced roughly ten times:\n"
   ]
  },
  {
   "cell_type": "code",
   "execution_count": 42,
   "metadata": {
    "collapsed": false
   },
   "outputs": [
    {
     "data": {
      "text/plain": [
       "4187642.8571428573"
      ]
     },
     "execution_count": 42,
     "metadata": {},
     "output_type": "execute_result"
    }
   ],
   "source": [
    "under_100_m = []\n",
    "\n",
    "for app in android_final:\n",
    "    n_installs = app[5]\n",
    "    n_installs = n_installs.replace(',', '')\n",
    "    n_installs = n_installs.replace('+', '')\n",
    "    if (app[1] == 'COMMUNICATION') and (float(n_installs) < 50000000):\n",
    "        under_100_m.append(float(n_installs))\n",
    "        \n",
    "sum(under_100_m) / len(under_100_m)"
   ]
  },
  {
   "cell_type": "code",
   "execution_count": 43,
   "metadata": {
    "collapsed": false
   },
   "outputs": [
    {
     "name": "stdout",
     "output_type": "stream",
     "text": [
      "YouTube : 1,000,000,000+\n",
      "All Video Downloader 2018 : 1,000,000+\n",
      "All Video Downloader 2018 : 1,000,000+\n",
      "Video Downloader : 10,000,000+\n",
      "HD Video Player : 1,000,000+\n",
      "Iqiyi (for tablet) : 1,000,000+\n",
      "Video Player All Format : 10,000,000+\n",
      "Motorola Gallery : 100,000,000+\n",
      "Free TV series : 100,000+\n",
      "Free TV series : 100,000+\n",
      "Free TV series : 100,000+\n",
      "Video Player All Format for Android : 500,000+\n",
      "Video Player All Format for Android : 500,000+\n",
      "VLC for Android : 100,000,000+\n",
      "Code : 10,000,000+\n",
      "Vote for : 50,000,000+\n",
      "XX HD Video downloader-Free Video Downloader : 1,000,000+\n",
      "OBJECTIVE : 1,000,000+\n",
      "Music - Mp3 Player : 10,000,000+\n",
      "HD Movie Video Player : 1,000,000+\n",
      "YouCut - Video Editor & Video Maker, No Watermark : 5,000,000+\n",
      "Video Editor,Crop Video,Movie Video,Music,Effects : 1,000,000+\n",
      "YouTube Studio : 10,000,000+\n",
      "video player for android : 10,000,000+\n",
      "Vigo Video : 50,000,000+\n",
      "Google Play Movies & TV : 1,000,000,000+\n",
      "VPlayer : 1,000,000+\n",
      "VPlayer : 1,000,000+\n",
      "MiniMovie - Free Video and Slideshow Editor : 50,000,000+\n",
      "Samsung Video Library : 50,000,000+\n",
      "OnePlus Gallery : 1,000,000+\n",
      "LIKE – Magic Video Maker & Community : 50,000,000+\n",
      "HTC Service—Video Player : 5,000,000+\n",
      "Play Tube : 1,000,000+\n",
      "Droid Zap by Motorola : 5,000,000+\n",
      "Droid Zap by Motorola : 5,000,000+\n",
      "video player : 1,000,000+\n",
      "G Guide Program Guide (SOFTBANK EMOBILE WILLCOM version) : 1,000,000+\n",
      "Video.Guru - Video Maker : 1,000,000+\n",
      "HTC Gallery : 10,000,000+\n",
      "PowerDirector Video Editor App: 4K, Slow Mo & More : 10,000,000+\n",
      "Cartoon Network App : 10,000,000+\n",
      "Video Status : 1,000,000+\n",
      "BluTV : 1,000,000+\n",
      "Tencent Video - Supporting the whole network : 1,000,000+\n",
      "Casper Ssinema : 10,000+\n",
      "amazer - Global Kpop Video Community : 100,000+\n",
      "MX Player : 500,000,000+\n",
      "Video Editor : 5,000,000+\n",
      "Omlet Arcade - Stream, Meet, Play : 10,000,000+\n",
      "VUE: video editor & camcorder : 1,000,000+\n",
      "Magisto Video Editor & Maker : 10,000,000+\n",
      "Dubsmash : 100,000,000+\n",
      "DU Recorder – Screen Recorder, Video Editor, Live : 50,000,000+\n",
      "KineMaster – Pro Video Editor : 50,000,000+\n",
      "Mobizen Screen Recorder for SAMSUNG : 10,000,000+\n",
      "Mobizen Screen Recorder for LG - Record, Capture : 1,000,000+\n",
      "Sketch 'n' go : 100,000+\n",
      "Q-See Plus : 5,000+\n",
      "Q-See Plus : 5,000+\n",
      "Q-See Plus : 5,000+\n",
      "Q-See Plus : 5,000+\n",
      "Q-See Plus : 5,000+\n",
      "Q-See Plus : 5,000+\n",
      "Q-See Plus : 5,000+\n",
      "Q-See Plus : 5,000+\n",
      "Q-See Plus : 5,000+\n",
      "Q-See Plus : 5,000+\n",
      "Q-See Plus : 5,000+\n",
      "Q-See Plus : 5,000+\n",
      "Q-See Plus : 5,000+\n",
      "Q-See Plus : 5,000+\n",
      "Q-See Plus : 5,000+\n",
      "Q-See Plus : 5,000+\n",
      "Q-See Plus : 5,000+\n",
      "Q-See Plus : 5,000+\n",
      "Q-See Plus : 5,000+\n",
      "Q-See Plus : 5,000+\n",
      "Ustream : 10,000,000+\n",
      "VMate : 50,000,000+\n",
      "All Video Downloader : 10,000,000+\n",
      "VidPlay : 1,000,000+\n",
      "HD Video Downloader : 2018 Best video mate : 50,000,000+\n",
      "VivaVideo - Video Editor & Photo Movie : 100,000,000+\n",
      "VideoShow-Video Editor, Video Maker, Beauty Camera : 100,000,000+\n",
      "AB Repeat Player : 100,000+\n",
      "AB Repeat Player : 100,000+\n",
      "Ez Screen Recorder (no ad) : 100,000+\n",
      "Adobe Premiere Clip : 5,000,000+\n",
      "FilmoraGo - Free Video Editor : 10,000,000+\n",
      "ActionDirector Video Editor - Edit Videos Fast : 5,000,000+\n",
      "WiFi Baby Monitor - NannyCam : 5,000,000+\n",
      "Ringdroid : 50,000,000+\n",
      "Multiple Videos at Same Time : 1,000,000+\n",
      "AX Player -Nougat Video Player : 1,000,000+\n",
      "AX Video Player : 50,000+\n",
      "AX Video Player : 50,000+\n",
      "iMediaShare – Photos & Music : 10,000,000+\n",
      "AZ Screen Recorder - No Root : 10,000,000+\n",
      "Funny videos for whatsapp : 1,000,000+\n",
      "bgtime.tv : 50,000+\n",
      "bgtime.tv : 50,000+\n",
      "BGCN TV : 100,000+\n",
      "AfreecaTV : 10,000,000+\n",
      "BR Series : 50,000+\n",
      "iPlayIT for YouTube VR Player : 1,000,000+\n",
      "BSPlayer FREE : 10,000,000+\n",
      "BSPlayer ARMv7 VFP CPU support : 1,000,000+\n",
      "BitTorrent®- Torrent Downloads : 10,000,000+\n",
      "Nero AirBurn : 100,000+\n",
      "CJ VLC HD Remote (+ Stream) : 500,000+\n",
      "ACTIVEON CX & CX GOLD : 50,000+\n",
      "ACTIVEON CX & CX GOLD : 50,000+\n",
      "Video Downloader - for Instagram Repost App : 10,000,000+\n",
      "Quik – Free Video Editor for photos, clips, music : 10,000,000+\n",
      "FrostWire: Torrent Downloader & Music Player : 10,000,000+\n",
      "Inst Download - Video & Photo : 10,000,000+\n",
      "Vuze Torrent Downloader : 1,000,000+\n",
      "AndStream - Streaming Download : 1,000,000+\n",
      "DR TV : 500,000+\n",
      "DS photo : 1,000,000+\n",
      "DS video : 1,000,000+\n",
      "DU Privacy-hide apps、sms、file : 1,000,000+\n",
      "iSmart DV : 1,000,000+\n",
      "GoAction : 100,000+\n",
      "Naruto Shippuden - Watch Free! : 10,000,000+\n",
      "EZCast – Cast Media to TV : 1,000,000+\n",
      "EZ Web Video Cast | Chromecast : 100,000+\n",
      "HD Video Download for Facebook : 1,000,000+\n",
      "Motorola FM Radio : 100,000,000+\n"
     ]
    }
   ],
   "source": [
    "for app in android_final:\n",
    "    if app[1] == 'VIDEO_PLAYERS':\n",
    "          print(app[0], ':', app[5])"
   ]
  },
  {
   "cell_type": "markdown",
   "metadata": {},
   "source": [
    "We see the same pattern for the video players category, which is the second runner-up with 30212769 installs. The market is dominated by apps like Youtube, Google Play Movies & TV, or MX Player. The pattern is repeated for social apps (where we have giants like Facebook, Instagram, Google+, etc.), photography apps (Google Photos and other popular photo editors), or productivity apps (Microsoft Word, Dropbox, Google Calendar, Evernote, etc.).\n",
    "\n",
    "Again, the main concern is that these app genres might seem more popular than they really are. Moreover, these niches seem to be dominated by a few giants who are hard to compete against.\n",
    "\n",
    "The game genre seems pretty popular, but previously we found out this part of the market seems a bit saturated, so we'd like to come up with a different app recommendation if possible.\n",
    "\n",
    "The books and reference genre looks fairly popular as well, with an average number of installs of 4768215. It's interesting to explore this in more depth, since we found this genre has some potential to work well on the App Store, and our aim is to recommend an app genre that shows potential for being profitable on both the App Store and Google Play.\n",
    "\n",
    "Let's take a look at some of the apps from this genre and their number of installs:"
   ]
  },
  {
   "cell_type": "code",
   "execution_count": 44,
   "metadata": {
    "collapsed": false
   },
   "outputs": [
    {
     "name": "stdout",
     "output_type": "stream",
     "text": [
      "E-Book Read - Read Book for free : 50,000+\n",
      "Download free book with green book : 100,000+\n",
      "Wikipedia : 10,000,000+\n",
      "Cool Reader : 10,000,000+\n",
      "Free Panda Radio Music : 100,000+\n",
      "Free Panda Radio Music : 100,000+\n",
      "Book store : 1,000,000+\n",
      "FBReader: Favorite Book Reader : 10,000,000+\n",
      "English Grammar Complete Handbook : 500,000+\n",
      "Free Books - Spirit Fanfiction and Stories : 1,000,000+\n",
      "Google Play Books : 1,000,000,000+\n",
      "AlReader -any text book reader : 5,000,000+\n",
      "Offline English Dictionary : 100,000+\n",
      "FamilySearch Tree : 1,000,000+\n",
      "Cloud of Books : 1,000,000+\n",
      "Recipes of Prophetic Medicine for free : 500,000+\n",
      "ReadEra – free ebook reader : 1,000,000+\n",
      "Anonymous caller detection : 10,000+\n",
      "Anonymous caller detection : 10,000+\n",
      "Ebook Reader : 5,000,000+\n",
      "Litnet - E-books : 100,000+\n",
      "Read books online : 5,000,000+\n",
      "English to Urdu Dictionary : 500,000+\n",
      "eBoox: book reader fb2 epub zip : 1,000,000+\n",
      "English Persian Dictionary : 500,000+\n",
      "Flybook : 500,000+\n",
      "All Maths Formulas : 1,000,000+\n",
      "Ancestry : 5,000,000+\n",
      "HTC Help : 10,000,000+\n",
      "English translation from Bengali : 100,000+\n",
      "English translation from Bengali : 100,000+\n",
      "Pdf Book Download - Read Pdf Book : 100,000+\n",
      "Pdf Book Download - Read Pdf Book : 100,000+\n",
      "Free Book Reader : 100,000+\n",
      "eBoox new: Reader for fb2 epub zip books : 50,000+\n",
      "Only 30 days in English, the guideline is guaranteed : 500,000+\n",
      "Only 30 days in English, the guideline is guaranteed : 500,000+\n",
      "Only 30 days in English, the guideline is guaranteed : 500,000+\n",
      "Moon+ Reader : 10,000,000+\n",
      "SH-02J Owner's Manual (Android 8.0) : 50,000+\n",
      "SH-02J Owner's Manual (Android 8.0) : 50,000+\n",
      "SH-02J Owner's Manual (Android 8.0) : 50,000+\n",
      "SH-02J Owner's Manual (Android 8.0) : 50,000+\n",
      "SH-02J Owner's Manual (Android 8.0) : 50,000+\n",
      "SH-02J Owner's Manual (Android 8.0) : 50,000+\n",
      "SH-02J Owner's Manual (Android 8.0) : 50,000+\n",
      "SH-02J Owner's Manual (Android 8.0) : 50,000+\n",
      "SH-02J Owner's Manual (Android 8.0) : 50,000+\n",
      "SH-02J Owner's Manual (Android 8.0) : 50,000+\n",
      "SH-02J Owner's Manual (Android 8.0) : 50,000+\n",
      "SH-02J Owner's Manual (Android 8.0) : 50,000+\n",
      "SH-02J Owner's Manual (Android 8.0) : 50,000+\n",
      "SH-02J Owner's Manual (Android 8.0) : 50,000+\n",
      "SH-02J Owner's Manual (Android 8.0) : 50,000+\n",
      "SH-02J Owner's Manual (Android 8.0) : 50,000+\n",
      "SH-02J Owner's Manual (Android 8.0) : 50,000+\n",
      "SH-02J Owner's Manual (Android 8.0) : 50,000+\n",
      "SH-02J Owner's Manual (Android 8.0) : 50,000+\n",
      "SH-02J Owner's Manual (Android 8.0) : 50,000+\n",
      "SH-02J Owner's Manual (Android 8.0) : 50,000+\n",
      "SH-02J Owner's Manual (Android 8.0) : 50,000+\n",
      "SH-02J Owner's Manual (Android 8.0) : 50,000+\n",
      "SH-02J Owner's Manual (Android 8.0) : 50,000+\n",
      "SH-02J Owner's Manual (Android 8.0) : 50,000+\n",
      "SH-02J Owner's Manual (Android 8.0) : 50,000+\n",
      "SH-02J Owner's Manual (Android 8.0) : 50,000+\n",
      "SH-02J Owner's Manual (Android 8.0) : 50,000+\n",
      "SH-02J Owner's Manual (Android 8.0) : 50,000+\n",
      "SH-02J Owner's Manual (Android 8.0) : 50,000+\n",
      "SH-02J Owner's Manual (Android 8.0) : 50,000+\n",
      "SH-02J Owner's Manual (Android 8.0) : 50,000+\n",
      "SH-02J Owner's Manual (Android 8.0) : 50,000+\n",
      "SH-02J Owner's Manual (Android 8.0) : 50,000+\n",
      "SH-02J Owner's Manual (Android 8.0) : 50,000+\n",
      "SH-02J Owner's Manual (Android 8.0) : 50,000+\n",
      "SH-02J Owner's Manual (Android 8.0) : 50,000+\n",
      "SH-02J Owner's Manual (Android 8.0) : 50,000+\n",
      "SH-02J Owner's Manual (Android 8.0) : 50,000+\n",
      "SH-02J Owner's Manual (Android 8.0) : 50,000+\n",
      "SH-02J Owner's Manual (Android 8.0) : 50,000+\n",
      "SH-02J Owner's Manual (Android 8.0) : 50,000+\n",
      "SH-02J Owner's Manual (Android 8.0) : 50,000+\n",
      "SH-02J Owner's Manual (Android 8.0) : 50,000+\n",
      "SH-02J Owner's Manual (Android 8.0) : 50,000+\n",
      "SH-02J Owner's Manual (Android 8.0) : 50,000+\n",
      "SH-02J Owner's Manual (Android 8.0) : 50,000+\n",
      "SH-02J Owner's Manual (Android 8.0) : 50,000+\n",
      "SH-02J Owner's Manual (Android 8.0) : 50,000+\n",
      "SH-02J Owner's Manual (Android 8.0) : 50,000+\n",
      "SH-02J Owner's Manual (Android 8.0) : 50,000+\n",
      "SH-02J Owner's Manual (Android 8.0) : 50,000+\n",
      "SH-02J Owner's Manual (Android 8.0) : 50,000+\n",
      "SH-02J Owner's Manual (Android 8.0) : 50,000+\n",
      "SH-02J Owner's Manual (Android 8.0) : 50,000+\n",
      "SH-02J Owner's Manual (Android 8.0) : 50,000+\n",
      "SH-02J Owner's Manual (Android 8.0) : 50,000+\n",
      "SH-02J Owner's Manual (Android 8.0) : 50,000+\n",
      "SH-02J Owner's Manual (Android 8.0) : 50,000+\n",
      "SH-02J Owner's Manual (Android 8.0) : 50,000+\n",
      "SH-02J Owner's Manual (Android 8.0) : 50,000+\n",
      "SH-02J Owner's Manual (Android 8.0) : 50,000+\n",
      "SH-02J Owner's Manual (Android 8.0) : 50,000+\n",
      "SH-02J Owner's Manual (Android 8.0) : 50,000+\n",
      "SH-02J Owner's Manual (Android 8.0) : 50,000+\n",
      "SH-02J Owner's Manual (Android 8.0) : 50,000+\n",
      "SH-02J Owner's Manual (Android 8.0) : 50,000+\n",
      "SH-02J Owner's Manual (Android 8.0) : 50,000+\n",
      "SH-02J Owner's Manual (Android 8.0) : 50,000+\n",
      "SH-02J Owner's Manual (Android 8.0) : 50,000+\n",
      "SH-02J Owner's Manual (Android 8.0) : 50,000+\n",
      "SH-02J Owner's Manual (Android 8.0) : 50,000+\n",
      "SH-02J Owner's Manual (Android 8.0) : 50,000+\n",
      "SH-02J Owner's Manual (Android 8.0) : 50,000+\n",
      "SH-02J Owner's Manual (Android 8.0) : 50,000+\n",
      "SH-02J Owner's Manual (Android 8.0) : 50,000+\n",
      "SH-02J Owner's Manual (Android 8.0) : 50,000+\n",
      "SH-02J Owner's Manual (Android 8.0) : 50,000+\n",
      "SH-02J Owner's Manual (Android 8.0) : 50,000+\n",
      "SH-02J Owner's Manual (Android 8.0) : 50,000+\n",
      "SH-02J Owner's Manual (Android 8.0) : 50,000+\n",
      "SH-02J Owner's Manual (Android 8.0) : 50,000+\n",
      "SH-02J Owner's Manual (Android 8.0) : 50,000+\n",
      "SH-02J Owner's Manual (Android 8.0) : 50,000+\n",
      "SH-02J Owner's Manual (Android 8.0) : 50,000+\n",
      "SH-02J Owner's Manual (Android 8.0) : 50,000+\n",
      "SH-02J Owner's Manual (Android 8.0) : 50,000+\n",
      "SH-02J Owner's Manual (Android 8.0) : 50,000+\n",
      "SH-02J Owner's Manual (Android 8.0) : 50,000+\n",
      "SH-02J Owner's Manual (Android 8.0) : 50,000+\n",
      "SH-02J Owner's Manual (Android 8.0) : 50,000+\n",
      "SH-02J Owner's Manual (Android 8.0) : 50,000+\n",
      "SH-02J Owner's Manual (Android 8.0) : 50,000+\n",
      "SH-02J Owner's Manual (Android 8.0) : 50,000+\n",
      "SH-02J Owner's Manual (Android 8.0) : 50,000+\n",
      "SH-02J Owner's Manual (Android 8.0) : 50,000+\n",
      "SH-02J Owner's Manual (Android 8.0) : 50,000+\n",
      "SH-02J Owner's Manual (Android 8.0) : 50,000+\n",
      "SH-02J Owner's Manual (Android 8.0) : 50,000+\n",
      "SH-02J Owner's Manual (Android 8.0) : 50,000+\n",
      "SH-02J Owner's Manual (Android 8.0) : 50,000+\n",
      "SH-02J Owner's Manual (Android 8.0) : 50,000+\n",
      "SH-02J Owner's Manual (Android 8.0) : 50,000+\n",
      "SH-02J Owner's Manual (Android 8.0) : 50,000+\n",
      "SH-02J Owner's Manual (Android 8.0) : 50,000+\n",
      "SH-02J Owner's Manual (Android 8.0) : 50,000+\n",
      "SH-02J Owner's Manual (Android 8.0) : 50,000+\n",
      "SH-02J Owner's Manual (Android 8.0) : 50,000+\n",
      "SH-02J Owner's Manual (Android 8.0) : 50,000+\n",
      "SH-02J Owner's Manual (Android 8.0) : 50,000+\n",
      "SH-02J Owner's Manual (Android 8.0) : 50,000+\n",
      "SH-02J Owner's Manual (Android 8.0) : 50,000+\n",
      "SH-02J Owner's Manual (Android 8.0) : 50,000+\n",
      "SH-02J Owner's Manual (Android 8.0) : 50,000+\n",
      "SH-02J Owner's Manual (Android 8.0) : 50,000+\n",
      "SH-02J Owner's Manual (Android 8.0) : 50,000+\n",
      "SH-02J Owner's Manual (Android 8.0) : 50,000+\n",
      "SH-02J Owner's Manual (Android 8.0) : 50,000+\n",
      "SH-02J Owner's Manual (Android 8.0) : 50,000+\n",
      "SH-02J Owner's Manual (Android 8.0) : 50,000+\n",
      "SH-02J Owner's Manual (Android 8.0) : 50,000+\n",
      "SH-02J Owner's Manual (Android 8.0) : 50,000+\n",
      "SH-02J Owner's Manual (Android 8.0) : 50,000+\n",
      "SH-02J Owner's Manual (Android 8.0) : 50,000+\n",
      "SH-02J Owner's Manual (Android 8.0) : 50,000+\n",
      "SH-02J Owner's Manual (Android 8.0) : 50,000+\n",
      "SH-02J Owner's Manual (Android 8.0) : 50,000+\n",
      "SH-02J Owner's Manual (Android 8.0) : 50,000+\n",
      "SH-02J Owner's Manual (Android 8.0) : 50,000+\n",
      "SH-02J Owner's Manual (Android 8.0) : 50,000+\n",
      "SH-02J Owner's Manual (Android 8.0) : 50,000+\n",
      "SH-02J Owner's Manual (Android 8.0) : 50,000+\n",
      "SH-02J Owner's Manual (Android 8.0) : 50,000+\n",
      "SH-02J Owner's Manual (Android 8.0) : 50,000+\n",
      "SH-02J Owner's Manual (Android 8.0) : 50,000+\n",
      "SH-02J Owner's Manual (Android 8.0) : 50,000+\n",
      "SH-02J Owner's Manual (Android 8.0) : 50,000+\n",
      "SH-02J Owner's Manual (Android 8.0) : 50,000+\n",
      "SH-02J Owner's Manual (Android 8.0) : 50,000+\n",
      "SH-02J Owner's Manual (Android 8.0) : 50,000+\n",
      "SH-02J Owner's Manual (Android 8.0) : 50,000+\n",
      "SH-02J Owner's Manual (Android 8.0) : 50,000+\n",
      "SH-02J Owner's Manual (Android 8.0) : 50,000+\n",
      "SH-02J Owner's Manual (Android 8.0) : 50,000+\n",
      "SH-02J Owner's Manual (Android 8.0) : 50,000+\n",
      "SH-02J Owner's Manual (Android 8.0) : 50,000+\n",
      "SH-02J Owner's Manual (Android 8.0) : 50,000+\n",
      "SH-02J Owner's Manual (Android 8.0) : 50,000+\n",
      "SH-02J Owner's Manual (Android 8.0) : 50,000+\n",
      "SH-02J Owner's Manual (Android 8.0) : 50,000+\n",
      "SH-02J Owner's Manual (Android 8.0) : 50,000+\n",
      "SH-02J Owner's Manual (Android 8.0) : 50,000+\n",
      "SH-02J Owner's Manual (Android 8.0) : 50,000+\n",
      "SH-02J Owner's Manual (Android 8.0) : 50,000+\n",
      "SH-02J Owner's Manual (Android 8.0) : 50,000+\n",
      "SH-02J Owner's Manual (Android 8.0) : 50,000+\n",
      "SH-02J Owner's Manual (Android 8.0) : 50,000+\n",
      "SH-02J Owner's Manual (Android 8.0) : 50,000+\n",
      "SH-02J Owner's Manual (Android 8.0) : 50,000+\n",
      "SH-02J Owner's Manual (Android 8.0) : 50,000+\n",
      "SH-02J Owner's Manual (Android 8.0) : 50,000+\n",
      "SH-02J Owner's Manual (Android 8.0) : 50,000+\n",
      "SH-02J Owner's Manual (Android 8.0) : 50,000+\n",
      "SH-02J Owner's Manual (Android 8.0) : 50,000+\n",
      "SH-02J Owner's Manual (Android 8.0) : 50,000+\n",
      "SH-02J Owner's Manual (Android 8.0) : 50,000+\n",
      "SH-02J Owner's Manual (Android 8.0) : 50,000+\n",
      "SH-02J Owner's Manual (Android 8.0) : 50,000+\n",
      "SH-02J Owner's Manual (Android 8.0) : 50,000+\n",
      "SH-02J Owner's Manual (Android 8.0) : 50,000+\n",
      "SH-02J Owner's Manual (Android 8.0) : 50,000+\n",
      "SH-02J Owner's Manual (Android 8.0) : 50,000+\n",
      "SH-02J Owner's Manual (Android 8.0) : 50,000+\n",
      "SH-02J Owner's Manual (Android 8.0) : 50,000+\n",
      "SH-02J Owner's Manual (Android 8.0) : 50,000+\n",
      "SH-02J Owner's Manual (Android 8.0) : 50,000+\n",
      "SH-02J Owner's Manual (Android 8.0) : 50,000+\n",
      "SH-02J Owner's Manual (Android 8.0) : 50,000+\n",
      "SH-02J Owner's Manual (Android 8.0) : 50,000+\n",
      "SH-02J Owner's Manual (Android 8.0) : 50,000+\n",
      "SH-02J Owner's Manual (Android 8.0) : 50,000+\n",
      "SH-02J Owner's Manual (Android 8.0) : 50,000+\n",
      "SH-02J Owner's Manual (Android 8.0) : 50,000+\n",
      "SH-02J Owner's Manual (Android 8.0) : 50,000+\n",
      "SH-02J Owner's Manual (Android 8.0) : 50,000+\n",
      "SH-02J Owner's Manual (Android 8.0) : 50,000+\n",
      "SH-02J Owner's Manual (Android 8.0) : 50,000+\n",
      "SH-02J Owner's Manual (Android 8.0) : 50,000+\n",
      "SH-02J Owner's Manual (Android 8.0) : 50,000+\n",
      "SH-02J Owner's Manual (Android 8.0) : 50,000+\n",
      "SH-02J Owner's Manual (Android 8.0) : 50,000+\n",
      "SH-02J Owner's Manual (Android 8.0) : 50,000+\n",
      "SH-02J Owner's Manual (Android 8.0) : 50,000+\n",
      "SH-02J Owner's Manual (Android 8.0) : 50,000+\n",
      "SH-02J Owner's Manual (Android 8.0) : 50,000+\n",
      "SH-02J Owner's Manual (Android 8.0) : 50,000+\n",
      "SH-02J Owner's Manual (Android 8.0) : 50,000+\n",
      "SH-02J Owner's Manual (Android 8.0) : 50,000+\n",
      "SH-02J Owner's Manual (Android 8.0) : 50,000+\n",
      "SH-02J Owner's Manual (Android 8.0) : 50,000+\n",
      "SH-02J Owner's Manual (Android 8.0) : 50,000+\n",
      "SH-02J Owner's Manual (Android 8.0) : 50,000+\n",
      "SH-02J Owner's Manual (Android 8.0) : 50,000+\n",
      "SH-02J Owner's Manual (Android 8.0) : 50,000+\n",
      "SH-02J Owner's Manual (Android 8.0) : 50,000+\n",
      "SH-02J Owner's Manual (Android 8.0) : 50,000+\n",
      "SH-02J Owner's Manual (Android 8.0) : 50,000+\n",
      "SH-02J Owner's Manual (Android 8.0) : 50,000+\n",
      "SH-02J Owner's Manual (Android 8.0) : 50,000+\n",
      "SH-02J Owner's Manual (Android 8.0) : 50,000+\n",
      "SH-02J Owner's Manual (Android 8.0) : 50,000+\n",
      "SH-02J Owner's Manual (Android 8.0) : 50,000+\n",
      "SH-02J Owner's Manual (Android 8.0) : 50,000+\n",
      "Golden Dictionary (EN-AR) : 1,000,000+\n",
      "All Language Translator Free : 1,000,000+\n",
      "Azpen eReader : 500,000+\n",
      "Azpen eReader : 500,000+\n",
      "Azpen eReader : 500,000+\n",
      "Azpen eReader : 500,000+\n",
      "URBANO V 02 instruction manual : 100,000+\n",
      "URBANO V 02 instruction manual : 100,000+\n",
      "URBANO V 02 instruction manual : 100,000+\n",
      "URBANO V 02 instruction manual : 100,000+\n",
      "URBANO V 02 instruction manual : 100,000+\n",
      "URBANO V 02 instruction manual : 100,000+\n",
      "URBANO V 02 instruction manual : 100,000+\n",
      "URBANO V 02 instruction manual : 100,000+\n",
      "URBANO V 02 instruction manual : 100,000+\n",
      "URBANO V 02 instruction manual : 100,000+\n",
      "URBANO V 02 instruction manual : 100,000+\n",
      "URBANO V 02 instruction manual : 100,000+\n",
      "URBANO V 02 instruction manual : 100,000+\n",
      "Bible : 100,000,000+\n",
      "C Programs and Reference : 50,000+\n",
      "C Offline Tutorial : 1,000+\n",
      "C Offline Tutorial : 1,000+\n",
      "C Offline Tutorial : 1,000+\n",
      "C Offline Tutorial : 1,000+\n",
      "C Offline Tutorial : 1,000+\n",
      "C Offline Tutorial : 1,000+\n",
      "C Offline Tutorial : 1,000+\n",
      "C Offline Tutorial : 1,000+\n",
      "C Offline Tutorial : 1,000+\n",
      "C Offline Tutorial : 1,000+\n",
      "C Offline Tutorial : 1,000+\n",
      "C Offline Tutorial : 1,000+\n",
      "C Programs Handbook : 50,000+\n",
      "C Programs Handbook : 50,000+\n",
      "C Programs Handbook : 50,000+\n",
      "C Programs Handbook : 50,000+\n",
      "Amazon Kindle : 100,000,000+\n",
      "Aab e Hayat Full Novel : 100,000+\n",
      "Aab e Hayat Full Novel : 100,000+\n",
      "Aldiko Book Reader : 10,000,000+\n",
      "Google I/O 2018 : 500,000+\n",
      "Wattpad 📖 Free Books : 100,000,000+\n",
      "Dictionary - WordWeb : 5,000,000+\n",
      "Guide (for X-MEN) : 100,000+\n",
      "Ae Allah na Dai (Rasa) : 10,000+\n",
      "50000 Free eBooks & Free AudioBooks : 5,000,000+\n",
      "Al-Quran (Free) : 10,000,000+\n",
      "Al Quran (Tafsir & by Word) : 500,000+\n",
      "Al Quran Indonesia : 10,000,000+\n",
      "Al'Quran Bahasa Indonesia : 10,000,000+\n",
      "Al Quran Al karim : 1,000,000+\n",
      "Al-Muhaffiz : 50,000+\n",
      "Al Quran : EAlim - Translations & MP3 Offline : 5,000,000+\n",
      "Al-Quran 30 Juz free copies : 500,000+\n",
      "Koran Read &MP3 30 Juz Offline : 1,000,000+\n",
      "Hafizi Quran 15 lines per page : 1,000,000+\n",
      "Quran for Android : 10,000,000+\n",
      "Surah Al-Waqiah : 100,000+\n",
      "Satellite AR : 1,000,000+\n",
      "Audiobooks from Audible : 100,000,000+\n",
      "Ay Hasnain k Nana Milad Naat : 10,000+\n",
      "Ay Hasnain k Nana Milad Naat : 10,000+\n",
      "Ay Hasnain k Nana Milad Naat : 10,000+\n",
      "Ay Hasnain k Nana Milad Naat : 10,000+\n",
      "Ay Hasnain k Nana Milad Naat : 10,000+\n",
      "Oxford A-Z of English Usage : 1,000,000+\n",
      "Youboox - Livres, BD et magazines : 500,000+\n",
      "B&H Kids AR : 10,000+\n",
      "B&H Kids AR : 10,000+\n",
      "Dictionary.com: Find Definitions for English Words : 10,000,000+\n",
      "English Dictionary - Offline : 10,000,000+\n",
      "Bible KJV : 5,000,000+\n",
      "NOOK: Read eBooks & Magazines : 10,000,000+\n",
      "NOOK Audiobooks : 500,000+\n",
      "NOOK App for NOOK Devices : 500,000+\n",
      "Brilliant Quotes: Life, Love, Family & Motivation : 1,000,000+\n",
      "Kristian Hla Bu : 10,000+\n",
      "Kristian Hla Bu : 10,000+\n",
      "Kristian Hla Bu : 10,000+\n",
      "Kristian Hla Bu : 10,000+\n",
      "cloudLibrary : 100,000+\n",
      "Sabbath School : 100,000+\n",
      "Stats Royale for Clash Royale : 1,000,000+\n",
      "Dictionary : 10,000,000+\n",
      "wikiHow: how to do anything : 1,000,000+\n",
      "EGW Writings 2 : 100,000+\n",
      "EGW Writings : 1,000,000+\n",
      "My Little Pony AR Guide : 1,000,000+\n",
      "SDA Sabbath School Quarterly : 500,000+\n",
      "Spanish English Translator : 10,000,000+\n",
      "Dictionary - Merriam-Webster : 10,000,000+\n",
      "JW Library : 10,000,000+\n",
      "Oxford Dictionary of English : Free : 10,000,000+\n",
      "English Hindi Dictionary : 10,000,000+\n",
      "English to Hindi Dictionary : 5,000,000+\n",
      "Hymnes et Louanges : 100,000+\n",
      "BakaReader EX : 100,000+\n",
      "Golden Dictionary (FR-AR) : 500,000+\n",
      "Bulgarian French Dictionary Fr : 10,000+\n"
     ]
    }
   ],
   "source": [
    "for app in android_final:\n",
    "    if app[1] == 'BOOKS_AND_REFERENCE':\n",
    "        print(app[0], ':', app[5])"
   ]
  },
  {
   "cell_type": "markdown",
   "metadata": {},
   "source": [
    "The book and reference genre includes a variety of apps: software for processing and reading ebooks, various collections of libraries, dictionaries, tutorials on programming or languages, etc. It seems there's still a small number of extremely popular apps that skew the average:"
   ]
  },
  {
   "cell_type": "code",
   "execution_count": 46,
   "metadata": {
    "collapsed": false
   },
   "outputs": [
    {
     "name": "stdout",
     "output_type": "stream",
     "text": [
      "Google Play Books : 1,000,000,000+\n",
      "Bible : 100,000,000+\n",
      "Amazon Kindle : 100,000,000+\n",
      "Wattpad 📖 Free Books : 100,000,000+\n",
      "Audiobooks from Audible : 100,000,000+\n"
     ]
    }
   ],
   "source": [
    "for app in android_final:\n",
    "    if app[1] == 'BOOKS_AND_REFERENCE' and (app[5] == '1,000,000,000+'\n",
    "                                           or app[5] == '500,000,000+'\n",
    "                                           or app[5] == '100,000,000+'):\n",
    "        print(app[0], ':', app[5])"
   ]
  },
  {
   "cell_type": "markdown",
   "metadata": {},
   "source": [
    "However, it looks like there are only a few very popular apps, so this market still shows potential. Let's try to get some app ideas based on the kind of apps that are somewhere in the middle in terms of popularity (between 1,000,000 and 100,000,000 downloads):"
   ]
  },
  {
   "cell_type": "code",
   "execution_count": 50,
   "metadata": {
    "collapsed": false
   },
   "outputs": [
    {
     "name": "stdout",
     "output_type": "stream",
     "text": [
      "Book store : 1,000,000+\n",
      "Free Books - Spirit Fanfiction and Stories : 1,000,000+\n",
      "FamilySearch Tree : 1,000,000+\n",
      "Cloud of Books : 1,000,000+\n",
      "ReadEra – free ebook reader : 1,000,000+\n",
      "eBoox: book reader fb2 epub zip : 1,000,000+\n",
      "All Maths Formulas : 1,000,000+\n",
      "Golden Dictionary (EN-AR) : 1,000,000+\n",
      "All Language Translator Free : 1,000,000+\n",
      "Bible : 100,000,000+\n",
      "Amazon Kindle : 100,000,000+\n",
      "Wattpad 📖 Free Books : 100,000,000+\n",
      "Al Quran Al karim : 1,000,000+\n",
      "Koran Read &MP3 30 Juz Offline : 1,000,000+\n",
      "Hafizi Quran 15 lines per page : 1,000,000+\n",
      "Satellite AR : 1,000,000+\n",
      "Audiobooks from Audible : 100,000,000+\n",
      "Oxford A-Z of English Usage : 1,000,000+\n",
      "Brilliant Quotes: Life, Love, Family & Motivation : 1,000,000+\n",
      "Stats Royale for Clash Royale : 1,000,000+\n",
      "wikiHow: how to do anything : 1,000,000+\n",
      "EGW Writings : 1,000,000+\n",
      "My Little Pony AR Guide : 1,000,000+\n"
     ]
    }
   ],
   "source": [
    "for app in android_final:\n",
    "    if app[1] == 'BOOKS_AND_REFERENCE' and (app[5] == '1,000,000+'\n",
    "                                           or app[5] == '50,000,000+'\n",
    "                                           or app[5] == '100,000,000+'):\n",
    "        print(app[0], ':', app[5])"
   ]
  },
  {
   "cell_type": "markdown",
   "metadata": {},
   "source": [
    "This niche seems to be dominated by software for processing and reading ebooks, as well as various collections of libraries and dictionaries, so it's probably not a good idea to build similar apps since there'll be some significant competition.\n",
    "\n",
    "We also notice there are quite a few apps built around the book Quran, which suggests that building an app around a popular book can be profitable. It seems that taking a popular book (perhaps a more recent book) and turning it into an app could be profitable for both the Google Play and the App Store markets.\n",
    "\n",
    "However, it looks like the market is already full of libraries, so we need to add some special features besides the raw version of the book. This might include daily quotes from the book, an audio version of the book, quizzes on the book, a forum where people can discuss the book, etc."
   ]
  },
  {
   "cell_type": "markdown",
   "metadata": {},
   "source": [
    "# Conclusions\n",
    "***\n",
    "In this project, we analyzed data about the App Store and Google Play mobile apps with the goal of recommending an app profile that can be profitable for both markets.\n",
    "\n",
    "We concluded that taking a popular book (perhaps a more recent book) and turning it into an app could be profitable for both the Google Play and the App Store markets. The markets are already full of libraries, so we need to add some special features besides the raw version of the book. This might include daily quotes from the book, an audio version of the book, quizzes on the book, a forum where people can discuss the book, etc."
   ]
  }
 ],
 "metadata": {
  "kernelspec": {
   "display_name": "Python 3",
   "language": "python",
   "name": "python3"
  },
  "language_info": {
   "codemirror_mode": {
    "name": "ipython",
    "version": 3
   },
   "file_extension": ".py",
   "mimetype": "text/x-python",
   "name": "python",
   "nbconvert_exporter": "python",
   "pygments_lexer": "ipython3",
   "version": "3.4.3"
  }
 },
 "nbformat": 4,
 "nbformat_minor": 2
}
